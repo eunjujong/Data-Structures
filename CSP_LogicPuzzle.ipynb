{
 "cells": [
  {
   "cell_type": "code",
   "execution_count": null,
   "metadata": {},
   "outputs": [],
   "source": [
    "# adapted from https://github.com/aimacode/aima-python"
   ]
  },
  {
   "cell_type": "code",
   "execution_count": 1,
   "metadata": {},
   "outputs": [],
   "source": [
    "from csp import *\n",
    "from mapColoring import *\n",
    "from notebook import psource, pseudocode, plot_NQueens\n",
    "\n",
    "%matplotlib inline\n",
    "# Hide warnings in the matplotlib sections\n",
    "import warnings\n",
    "warnings.filterwarnings(\"ignore\")\n",
    "\n",
    "# note much more complex set of .py files required for import than for search examples"
   ]
  },
  {
   "cell_type": "code",
   "execution_count": 2,
   "metadata": {},
   "outputs": [],
   "source": [
    "#groups of variables: b/c items in the same variable groups cannot be grouped together\n",
    "# ex. red and blue\n",
    "\n",
    "#neighbors: the \"fact\" that there is a constraint between two variables\n",
    "#constraint: the actual constraint  between two variables\n",
    "\n",
    "def Puzzle():\n",
    "    \"\"\"Return an instance of the Puzzle.\"\"\"\n",
    "    Colors = 'Red Yellow Blue Green Ivory'.split()\n",
    "    Pets = 'Dog Fox Snails Horse Zebra'.split()\n",
    "    Drinks = 'OJ Tea Coffee Milk Water'.split()\n",
    "    Countries = 'Englishman Spaniard Norwegian Ukranian Japanese'.split()\n",
    "    Candy = 'Hershey KitKat Smarties Snickers MilkyWay'.split()\n",
    "    variables = Colors + Pets + Drinks + Countries + Candy\n",
    "    domains = {}\n",
    "    for var in variables:\n",
    "        domains[var] = list(range(1, 6))\n",
    "    domains['Norwegian'] = [1]\n",
    "    domains['Milk'] = [3]\n",
    "    neighbors = parse_neighbors(\"\"\"Englishman: Red;\n",
    "                Spaniard: Dog; KitKat: Yellow; Hershey: Fox;\n",
    "                Norwegian: Blue; Smarties: Snails; Snickers: OJ;\n",
    "                Ukranian: Tea; Japanese: MilkyWay; KitKat: Horse;\n",
    "                Coffee: Green; Green: Ivory\"\"\", variables)\n",
    "    for type in [Colors, Pets, Drinks, Countries, Candy]:\n",
    "        for A in type:\n",
    "            for B in type:\n",
    "                if A != B:\n",
    "                    if B not in neighbors[A]:\n",
    "                        neighbors[A].append(B)\n",
    "                    if A not in neighbors[B]:\n",
    "                        neighbors[B].append(A)\n",
    "\n",
    "    def puzzle_constraint(A, a, B, b, recurse=0):\n",
    "        same = (a == b)\n",
    "        next_to = abs(a - b) == 1\n",
    "        if A == 'Englishman' and B == 'Red':\n",
    "            return same\n",
    "        if A == 'Spaniard' and B == 'Dog':\n",
    "            return same\n",
    "        if A == 'Hershey' and B == 'Fox':\n",
    "            return next_to\n",
    "        if A == 'Norwegian' and B == 'Blue':\n",
    "            return next_to\n",
    "        if A == 'KitKat' and B == 'Yellow':\n",
    "            return same\n",
    "        if A == 'Smarties' and B == 'Snails':\n",
    "            return same\n",
    "        if A == 'Snickers' and B == 'OJ':\n",
    "            return same\n",
    "        if A == 'Ukranian' and B == 'Tea':\n",
    "            return same\n",
    "        if A == 'Japanese' and B == 'MilkyWay':\n",
    "            return same\n",
    "        if A == 'KitKat' and B == 'Horse':\n",
    "            return next_to\n",
    "        if A == 'Coffee' and B == 'Green':\n",
    "            return same\n",
    "        if A == 'Green' and B == 'Ivory':\n",
    "            return a - 1 == b\n",
    "        if recurse == 0:\n",
    "            return puzzle_constraint(B, b, A, a, 1)\n",
    "        if ((A in Colors and B in Colors) or\n",
    "                (A in Pets and B in Pets) or\n",
    "                (A in Drinks and B in Drinks) or\n",
    "                (A in Countries and B in Countries) or\n",
    "                (A in Candy and B in Candy)):\n",
    "            return not same\n",
    "        raise Exception('error')\n",
    "    return CSP(variables, domains, neighbors, puzzle_constraint)"
   ]
  },
  {
   "cell_type": "code",
   "execution_count": 3,
   "metadata": {},
   "outputs": [],
   "source": [
    "def solve_puzzle(algorithm=backtracking_search, **args):\n",
    "    p = Puzzle()\n",
    "    ans = algorithm(p, **args)\n",
    "    for h in range(1, 6):\n",
    "        print('House', h, end=' ')\n",
    "        for (var, val) in ans.items():\n",
    "            if val == h:\n",
    "                print(var, end=' ')\n",
    "        print()\n",
    "    return ans"
   ]
  },
  {
   "cell_type": "code",
   "execution_count": 4,
   "metadata": {},
   "outputs": [
    {
     "name": "stdout",
     "output_type": "stream",
     "text": [
      "House 1 Yellow Fox Water Norwegian KitKat \n",
      "House 2 Blue Horse Tea Ukranian Hershey \n",
      "House 3 Red Snails Milk Englishman Smarties \n",
      "House 4 Ivory Dog OJ Spaniard Snickers \n",
      "House 5 Green Zebra Coffee Japanese MilkyWay \n"
     ]
    }
   ],
   "source": [
    "result = solve_puzzle()"
   ]
  },
  {
   "cell_type": "code",
   "execution_count": 5,
   "metadata": {},
   "outputs": [
    {
     "data": {
      "text/plain": [
       "{'Red': 3,\n",
       " 'Yellow': 1,\n",
       " 'Blue': 2,\n",
       " 'Green': 5,\n",
       " 'Ivory': 4,\n",
       " 'Dog': 4,\n",
       " 'Fox': 1,\n",
       " 'Snails': 3,\n",
       " 'Horse': 2,\n",
       " 'Zebra': 5,\n",
       " 'OJ': 4,\n",
       " 'Tea': 2,\n",
       " 'Coffee': 5,\n",
       " 'Milk': 3,\n",
       " 'Water': 1,\n",
       " 'Englishman': 3,\n",
       " 'Spaniard': 4,\n",
       " 'Norwegian': 1,\n",
       " 'Ukranian': 2,\n",
       " 'Japanese': 5,\n",
       " 'Hershey': 2,\n",
       " 'KitKat': 1,\n",
       " 'Smarties': 3,\n",
       " 'Snickers': 4,\n",
       " 'MilkyWay': 5}"
      ]
     },
     "execution_count": 5,
     "metadata": {},
     "output_type": "execute_result"
    }
   ],
   "source": [
    "result"
   ]
  },
  {
   "cell_type": "code",
   "execution_count": 8,
   "metadata": {},
   "outputs": [
    {
     "name": "stdout",
     "output_type": "stream",
     "text": [
      "House 1 Yellow Fox Water Norwegian KitKat \n",
      "House 2 Blue Horse Tea Ukranian Hershey \n",
      "House 3 Red Snails Milk Englishman Smarties \n",
      "House 4 Ivory Dog OJ Spaniard Snickers \n",
      "House 5 Green Zebra Coffee Japanese MilkyWay \n"
     ]
    }
   ],
   "source": [
    "result = solve_puzzle(algorithm=min_conflicts)"
   ]
  },
  {
   "cell_type": "code",
   "execution_count": 9,
   "metadata": {},
   "outputs": [
    {
     "name": "stdout",
     "output_type": "stream",
     "text": [
      "House 1 "
     ]
    },
    {
     "ename": "AttributeError",
     "evalue": "'NoneType' object has no attribute 'items'",
     "output_type": "error",
     "traceback": [
      "\u001b[0;31m---------------------------------------------------------------------------\u001b[0m",
      "\u001b[0;31mAttributeError\u001b[0m                            Traceback (most recent call last)",
      "\u001b[0;32m<ipython-input-9-e72e63c11979>\u001b[0m in \u001b[0;36m<module>\u001b[0;34m\u001b[0m\n\u001b[0;32m----> 1\u001b[0;31m \u001b[0mresult\u001b[0m \u001b[0;34m=\u001b[0m \u001b[0msolve_puzzle\u001b[0m\u001b[0;34m(\u001b[0m\u001b[0malgorithm\u001b[0m\u001b[0;34m=\u001b[0m\u001b[0mmin_conflicts\u001b[0m\u001b[0;34m,\u001b[0m \u001b[0mmax_steps\u001b[0m\u001b[0;34m=\u001b[0m\u001b[0;36m1000000\u001b[0m\u001b[0;34m)\u001b[0m\u001b[0;34m\u001b[0m\u001b[0;34m\u001b[0m\u001b[0m\n\u001b[0m",
      "\u001b[0;32m<ipython-input-3-c3a321354691>\u001b[0m in \u001b[0;36msolve_puzzle\u001b[0;34m(algorithm, **args)\u001b[0m\n\u001b[1;32m      4\u001b[0m     \u001b[0;32mfor\u001b[0m \u001b[0mh\u001b[0m \u001b[0;32min\u001b[0m \u001b[0mrange\u001b[0m\u001b[0;34m(\u001b[0m\u001b[0;36m1\u001b[0m\u001b[0;34m,\u001b[0m \u001b[0;36m6\u001b[0m\u001b[0;34m)\u001b[0m\u001b[0;34m:\u001b[0m\u001b[0;34m\u001b[0m\u001b[0;34m\u001b[0m\u001b[0m\n\u001b[1;32m      5\u001b[0m         \u001b[0mprint\u001b[0m\u001b[0;34m(\u001b[0m\u001b[0;34m'House'\u001b[0m\u001b[0;34m,\u001b[0m \u001b[0mh\u001b[0m\u001b[0;34m,\u001b[0m \u001b[0mend\u001b[0m\u001b[0;34m=\u001b[0m\u001b[0;34m' '\u001b[0m\u001b[0;34m)\u001b[0m\u001b[0;34m\u001b[0m\u001b[0;34m\u001b[0m\u001b[0m\n\u001b[0;32m----> 6\u001b[0;31m         \u001b[0;32mfor\u001b[0m \u001b[0;34m(\u001b[0m\u001b[0mvar\u001b[0m\u001b[0;34m,\u001b[0m \u001b[0mval\u001b[0m\u001b[0;34m)\u001b[0m \u001b[0;32min\u001b[0m \u001b[0mans\u001b[0m\u001b[0;34m.\u001b[0m\u001b[0mitems\u001b[0m\u001b[0;34m(\u001b[0m\u001b[0;34m)\u001b[0m\u001b[0;34m:\u001b[0m\u001b[0;34m\u001b[0m\u001b[0;34m\u001b[0m\u001b[0m\n\u001b[0m\u001b[1;32m      7\u001b[0m             \u001b[0;32mif\u001b[0m \u001b[0mval\u001b[0m \u001b[0;34m==\u001b[0m \u001b[0mh\u001b[0m\u001b[0;34m:\u001b[0m\u001b[0;34m\u001b[0m\u001b[0;34m\u001b[0m\u001b[0m\n\u001b[1;32m      8\u001b[0m                 \u001b[0mprint\u001b[0m\u001b[0;34m(\u001b[0m\u001b[0mvar\u001b[0m\u001b[0;34m,\u001b[0m \u001b[0mend\u001b[0m\u001b[0;34m=\u001b[0m\u001b[0;34m' '\u001b[0m\u001b[0;34m)\u001b[0m\u001b[0;34m\u001b[0m\u001b[0;34m\u001b[0m\u001b[0m\n",
      "\u001b[0;31mAttributeError\u001b[0m: 'NoneType' object has no attribute 'items'"
     ]
    }
   ],
   "source": [
    "result = solve_puzzle(algorithm=min_conflicts, max_steps=1000000)"
   ]
  },
  {
   "cell_type": "code",
   "execution_count": 1,
   "metadata": {},
   "outputs": [],
   "source": [
    "def Puzzle():\n",
    "    \"\"\"Return an instance of the Puzzle.\"\"\"\n",
    "    Names = 'Daniel Joshua Nicholas Ryan'.split()\n",
    "    Shirts = 'black blue green red'.split()\n",
    "    Age = '11 12 13 14'.split()\n",
    "    Snacks = 'chips cookies crackers popcorn'.split()\n",
    "    Movies = 'action comedy horror thriller'.split()\n",
    "    variables = Names + Shirts + Age + Snacks + Movies\n",
    "    domains = {}\n",
    "    for var in variables:\n",
    "        domains[var] = list(range(1, 5))\n",
    "    doamins['Joshua'] = [1, 4]\n",
    "    domains['14'] = [3]\n",
    "    domains['cookies'] = [1, 4]\n",
    "    domains['thriller'] = [1, 4]\n",
    "    domains['green'] = [1]\n",
    "    neighbors = parse_neighbors(\"\"\"black: 11; Joshua: horror;\n",
    "                13: red; red: action; Daniel: thriller; \n",
    "                black: thriller; comedy: crackers; popcorn: red; \n",
    "                red: Nicolas; Joshua: Nicolas; \n",
    "                Nicolas: Daniel\"\"\", variables)\n",
    "    for type in [Names, Shirts, Age, Snacks, Movies]:\n",
    "        for A in type:\n",
    "            for B in type:\n",
    "                if A != B:\n",
    "                    if B not in neighbors[A]:\n",
    "                        neighbors[A].append(B)\n",
    "                    if A not in neighbors[B]:\n",
    "                        neighbors[B].append(A)\n",
    "\n",
    "    def puzzle_constraint(A, a, B, b, C, c, recurse=0):\n",
    "        same = (a == b)\n",
    "        next_to = abs(a - b) == 1\n",
    "        near = abs(b - c) == 1\n",
    "        if A == 'black' and B == '11':\n",
    "            return b - 1 == c\n",
    "        if A == 'Joshua' and B == 'horror':\n",
    "            return same\n",
    "        if A == '13' and B == 'red':\n",
    "            return b - 1 == c\n",
    "        if A == 'red' and B == 'action':\n",
    "            return near\n",
    "        if A == 'Daniel' and B == 'thriller':\n",
    "            return same\n",
    "        if A == 'black' and B == 'thriller':\n",
    "            return same\n",
    "        if A == 'comedy' and B == 'crackers':\n",
    "            return same\n",
    "        if A == 'popcorn' and B == 'red':\n",
    "            return same\n",
    "        if A == 'red' and B == 'Nicolas':\n",
    "            return same\n",
    "        if A == 'Joshua' and B == 'Nicolas':\n",
    "            return next_to\n",
    "        if A == 'Nicolas' and B == 'Daniel':\n",
    "            return same\n",
    "        if recurse == 0:\n",
    "            return puzzle_constraint(B, b, A, a, 1)\n",
    "        if ((A in Namess and B in Names) or\n",
    "                (A in Shirts and B in Shirts) or\n",
    "                (A in Age and B in Age) or\n",
    "                (A in Snack and B in Snacks) or\n",
    "                (A in Movies and B in Movies)):\n",
    "            return not same\n",
    "        raise Exception('error')\n",
    "    return CSP(variables, domains, neighbors, puzzle_constraint)"
   ]
  },
  {
   "cell_type": "code",
   "execution_count": null,
   "metadata": {},
   "outputs": [],
   "source": []
  }
 ],
 "metadata": {
  "kernelspec": {
   "display_name": "Python 3",
   "language": "python",
   "name": "python3"
  },
  "language_info": {
   "codemirror_mode": {
    "name": "ipython",
    "version": 3
   },
   "file_extension": ".py",
   "mimetype": "text/x-python",
   "name": "python",
   "nbconvert_exporter": "python",
   "pygments_lexer": "ipython3",
   "version": "3.7.4"
  }
 },
 "nbformat": 4,
 "nbformat_minor": 2
}
